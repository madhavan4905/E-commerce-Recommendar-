{
 "cells": [
  {
   "cell_type": "markdown",
   "id": "51afbb1c",
   "metadata": {},
   "source": [
    "# Recommender System for E-Commerce"
   ]
  },
  {
   "cell_type": "markdown",
   "id": "d10f25e6",
   "metadata": {},
   "source": [
    "This notebook is part of an internship project under YBI Foundation."
   ]
  },
  {
   "cell_type": "code",
   "execution_count": null,
   "id": "516a9368",
   "metadata": {},
   "outputs": [],
   "source": [
    "# Import required libraries\n",
    "import pandas as pd\n",
    "import numpy as np\n",
    "from sklearn.metrics.pairwise import cosine_similarity\n",
    "import matplotlib.pyplot as plt\n",
    "import seaborn as sns"
   ]
  },
  {
   "cell_type": "code",
   "execution_count": null,
   "id": "72d8bce3",
   "metadata": {},
   "outputs": [],
   "source": [
    "# Sample dataset of users and their purchased products\n",
    "data = {\n",
    "    'user_id': [1, 1, 2, 2, 3, 3, 3, 4, 4, 5, 5, 6],\n",
    "    'product': ['Laptop', 'Mouse', 'Laptop', 'Keyboard', 'Mouse', 'Laptop', 'Monitor',\n",
    "                'Keyboard', 'Headphones', 'Laptop', 'Monitor', 'Mouse']\n",
    "}\n",
    "df = pd.DataFrame(data)\n",
    "print(\"User Purchase History:\")\n",
    "print(df)"
   ]
  },
  {
   "cell_type": "code",
   "execution_count": null,
   "id": "a33a3bef",
   "metadata": {},
   "outputs": [],
   "source": [
    "# Creating User-Item Matrix\n",
    "user_item_matrix = pd.crosstab(df['user_id'], df['product'])\n",
    "print(\"\\nUser-Item Matrix:\")\n",
    "print(user_item_matrix)"
   ]
  },
  {
   "cell_type": "code",
   "execution_count": null,
   "id": "03ff90a3",
   "metadata": {},
   "outputs": [],
   "source": [
    "# Visualizing user-product interaction using heatmap\n",
    "plt.figure(figsize=(10, 6))\n",
    "sns.heatmap(user_item_matrix, annot=True, cmap='YlGnBu')\n",
    "plt.title(\"User vs Product Interaction\")\n",
    "plt.xlabel(\"Products\")\n",
    "plt.ylabel(\"Users\")\n",
    "plt.show()"
   ]
  },
  {
   "cell_type": "code",
   "execution_count": null,
   "id": "bbae4d04",
   "metadata": {},
   "outputs": [],
   "source": [
    "# Calculating User Similarity Matrix\n",
    "user_similarity = cosine_similarity(user_item_matrix)\n",
    "user_sim_df = pd.DataFrame(user_similarity, index=user_item_matrix.index, columns=user_item_matrix.index)\n",
    "print(\"\\nUser Similarity Matrix:\")\n",
    "print(user_sim_df.round(2))"
   ]
  },
  {
   "cell_type": "code",
   "execution_count": null,
   "id": "7c02e14e",
   "metadata": {},
   "outputs": [],
   "source": [
    "# Calculating Item Similarity Matrix\n",
    "item_matrix = user_item_matrix.T\n",
    "item_similarity = cosine_similarity(item_matrix)\n",
    "item_sim_df = pd.DataFrame(item_similarity, index=item_matrix.index, columns=item_matrix.index)\n",
    "print(\"\\nItem Similarity Matrix:\")\n",
    "print(item_sim_df.round(2))"
   ]
  },
  {
   "cell_type": "code",
   "execution_count": null,
   "id": "31c7a9e0",
   "metadata": {},
   "outputs": [],
   "source": [
    "# Function for User-Based Recommendation\n",
    "def recommend_user_based(user_id, top_n=3):\n",
    "    if user_id not in user_sim_df.index:\n",
    "        return []\n",
    "    sim_users = user_sim_df[user_id].drop(user_id).sort_values(ascending=False)\n",
    "    user_products = set(df[df['user_id'] == user_id]['product'])\n",
    "    recommendations = {}\n",
    "    for sim_user_id, sim_score in sim_users.items():\n",
    "        products = df[df['user_id'] == sim_user_id]['product']\n",
    "        for product in products:\n",
    "            if product not in user_products:\n",
    "                recommendations[product] = recommendations.get(product, 0) + sim_score\n",
    "    sorted_recommendations = sorted(recommendations.items(), key=lambda x: x[1], reverse=True)\n",
    "    return [product for product, _ in sorted_recommendations][:top_n]"
   ]
  },
  {
   "cell_type": "code",
   "execution_count": null,
   "id": "1d60ff03",
   "metadata": {},
   "outputs": [],
   "source": [
    "# Function for Item-Based Recommendation\n",
    "def recommend_item_based(target_product, top_n=3):\n",
    "    if target_product not in item_sim_df.columns:\n",
    "        return []\n",
    "    sim_scores = item_sim_df[target_product].drop(target_product).sort_values(ascending=False)\n",
    "    return sim_scores.head(top_n).index.tolist()"
   ]
  },
  {
   "cell_type": "code",
   "execution_count": null,
   "id": "587ca943",
   "metadata": {},
   "outputs": [],
   "source": [
    "# Running user-based recommendations\n",
    "print(\"\\nUser-Based Recommendations:\")\n",
    "for uid in user_item_matrix.index:\n",
    "    recs = recommend_user_based(uid)\n",
    "    print(f\"User {uid}: {recs}\")\n",
    "\n",
    "# Running item-based recommendation example\n",
    "print(\"\\nItem-Based Recommendations (related to 'Laptop'):\")\n",
    "print(recommend_item_based('Laptop'))\n",
    "\n",
    "# Ending statement\n",
    "print(\"\\nThis notebook demonstrates both user- and item-based collaborative filtering with a simulated dataset.\")"
   ]
  }
 ],
 "metadata": {},
 "nbformat": 4,
 "nbformat_minor": 5
}
