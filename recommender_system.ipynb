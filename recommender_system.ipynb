{
 "cells": [
  {
   "cell_type": "markdown",
   "id": "99c3e5e3",
   "metadata": {},
   "source": [
    "# Recommender System for E-Commerce"
   ]
  },
  {
   "cell_type": "markdown",
   "id": "cd7756fc",
   "metadata": {},
   "source": [
    "This notebook is part of an internship project under YBI Foundation."
   ]
  },
  {
   "cell_type": "code",
   "execution_count": null,
   "id": "b6b172d5",
   "metadata": {},
   "outputs": [],
   "source": [
    "# Step 1: Import libraries\n",
    "import pandas as pd\n",
    "from sklearn.metrics.pairwise import cosine_similarity\n",
    "from sklearn.feature_extraction.text import CountVectorizer\n"
   ]
  },
  {
   "cell_type": "code",
   "execution_count": null,
   "id": "d7dc0d2a",
   "metadata": {},
   "outputs": [],
   "source": [
    "# Step 2: Load dataset (sample data)\n",
    "data = pd.DataFrame({\n",
    "    'user_id': [1, 1, 2, 2, 3],\n",
    "    'product': ['Phone', 'Charger', 'Phone', 'Laptop', 'Charger']\n",
    "})\n",
    "data"
   ]
  },
  {
   "cell_type": "code",
   "execution_count": null,
   "id": "8564183b",
   "metadata": {},
   "outputs": [],
   "source": [
    "# Step 3: Create user-product matrix\n",
    "user_product = pd.crosstab(data['user_id'], data['product'])\n",
    "user_product"
   ]
  },
  {
   "cell_type": "code",
   "execution_count": null,
   "id": "7b130928",
   "metadata": {},
   "outputs": [],
   "source": [
    "# Step 4: Compute similarity\n",
    "similarity = cosine_similarity(user_product)\n",
    "similarity"
   ]
  },
  {
   "cell_type": "markdown",
   "id": "706d36f5",
   "metadata": {},
   "source": [
    "This simple model recommends similar users based on their product interaction."
   ]
  }
 ],
 "metadata": {},
 "nbformat": 4,
 "nbformat_minor": 5
}
