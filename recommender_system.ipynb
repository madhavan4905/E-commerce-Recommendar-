# Step 1: Import Required Libraries
import pandas as pd
import numpy as np
from sklearn.metrics.pairwise import cosine_similarity
import matplotlib.pyplot as plt
import seaborn as sns

# Step 2: Create Sample Dataset (Simulating CSV Load)
data = {
    'user_id': [1, 1, 2, 2, 3, 3, 3, 4, 4, 5, 5, 6],
    'product': ['Laptop', 'Mouse', 'Laptop', 'Keyboard', 'Mouse', 'Laptop', 'Monitor',
                'Keyboard', 'Headphones', 'Laptop', 'Monitor', 'Mouse']
}
df = pd.DataFrame(data)
print("User Purchase History:")
print(df)

# Step 3: Create User-Item Matrix
user_item_matrix = pd.crosstab(df['user_id'], df['product'])
print("\nUser-Item Matrix:")
print(user_item_matrix)

# Step 4: Visualize User-Item Matrix
plt.figure(figsize=(10, 6))
sns.heatmap(user_item_matrix, annot=True, cmap='Blues')
plt.title("User vs Product Interaction")
plt.xlabel("Products")
plt.ylabel("Users")
plt.show()

# Step 5: User-Based Collaborative Filtering
user_similarity = cosine_similarity(user_item_matrix)
user_sim_df = pd.DataFrame(user_similarity, index=user_item_matrix.index, columns=user_item_matrix.index)
print("\nUser Similarity Matrix:")
print(user_sim_df.round(2))

# Step 6: Item-Based Collaborative Filtering
item_matrix = user_item_matrix.T
item_similarity = cosine_similarity(item_matrix)
item_sim_df = pd.DataFrame(item_similarity, index=item_matrix.index, columns=item_matrix.index)
print("\nItem Similarity Matrix:")
print(item_sim_df.round(2))

# Step 7: Recommendation Function (User-Based)
def recommend_user_based(user_id, top_n=3):
    sim_users = user_sim_df[user_id].drop(user_id).sort_values(ascending=False)
    user_products = set(df[df['user_id'] == user_id]['product'])
    recommendations = {}

    for sim_user_id, sim_score in sim_users.items():
        products = df[df['user_id'] == sim_user_id]['product']
        for product in products:
            if product not in user_products:
                recommendations[product] = recommendations.get(product, 0) + sim_score

    sorted_recommendations = sorted(recommendations.items(), key=lambda x: x[1], reverse=True)
    return [product for product, _ in sorted_recommendations][:top_n]

# Step 8: Recommendation Function (Item-Based)
def recommend_item_based(target_product, top_n=3):
    if target_product not in item_sim_df.columns:
        return []
    sim_scores = item_sim_df[target_product].drop(target_product).sort_values(ascending=False)
    return sim_scores.head(top_n).index.tolist()

# Step 9: Test Recommendations
print("\nUser-Based Recommendations:")
for uid in user_item_matrix.index:
    recs = recommend_user_based(uid)
    print(f"User {uid}: {recs}")

print("\nItem-Based Recommendations (related to 'Laptop'):")
print(recommend_item_based('Laptop'))

# Step 10: Conclusion
print("\nThis notebook shows both user- and item-based collaborative filtering using in-memory data.")
